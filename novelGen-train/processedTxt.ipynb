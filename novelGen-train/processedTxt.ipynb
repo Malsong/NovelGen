{
  "nbformat": 4,
  "nbformat_minor": 0,
  "metadata": {
    "colab": {
      "name": "processedTxt.ipynb",
      "provenance": [],
      "collapsed_sections": [],
      "mount_file_id": "1lvkLfhleR_6yd3-1UyBSMTgL4oWUezg3",
      "authorship_tag": "ABX9TyPmHtE4YQBaFzjKBmH+tcsj",
      "include_colab_link": true
    },
    "kernelspec": {
      "name": "python3",
      "display_name": "Python 3"
    },
    "language_info": {
      "name": "python"
    }
  },
  "cells": [
    {
      "cell_type": "markdown",
      "metadata": {
        "id": "view-in-github",
        "colab_type": "text"
      },
      "source": [
        "<a href=\"https://colab.research.google.com/github/Malsong/NovelGen/blob/main/novelGen-train/processedTxt.ipynb\" target=\"_parent\"><img src=\"https://colab.research.google.com/assets/colab-badge.svg\" alt=\"Open In Colab\"/></a>"
      ]
    },
    {
      "cell_type": "markdown",
      "source": [
        "# 代码实现"
      ],
      "metadata": {
        "id": "C_U9GTn18tWh"
      }
    },
    {
      "cell_type": "code",
      "execution_count": null,
      "metadata": {
        "id": "R0VmOTJH8d4o"
      },
      "outputs": [],
      "source": [
        "import numpy as np\n",
        "import os\n",
        "import re\n",
        "import io"
      ]
    },
    {
      "cell_type": "code",
      "source": [
        "# 处理语料文本: line：字符串\n",
        "def preprocess(line):\n",
        "  #line=line.replace(' ','')\n",
        "  line = ''.join(line.split())      # 将每行中的空格去除，还可以去全角空格\n",
        "  pattern1 = re.compile(r'\"(.*?)\"')  # 成对英文双引号替换为成对中文双引号\n",
        "  pattern2 = re.compile(r'\"(.*?)”') # 单个英文双引号替换为成对中文双引号\n",
        "  pattern3 = re.compile(r'“(.*?)\"') # 单个英文双引号替换为成对中文双引号\n",
        "  pattern4 = re.compile(r'『(.*?)』')\n",
        "  pattern5 = re.compile(r'「(.*?)」')\n",
        "\n",
        "  result1 = pattern1.findall(line)  \n",
        "  for l in result1:\n",
        "    line = line.replace('\"{}\"'.format(l),'“{}”'.format(l))\n",
        "\n",
        "  result2 = pattern2.findall(line)  \n",
        "  for l in result2:\n",
        "    line = line.replace('\"{}”'.format(l),'“{}”'.format(l))\n",
        "\n",
        "  result3 = pattern3.findall(line)  \n",
        "  for l in result3:\n",
        "    line = line.replace('“{}\"'.format(l),'“{}”'.format(l))\n",
        "\n",
        "  result4 = pattern4.findall(line)  \n",
        "  for l in result4:\n",
        "    line = line.replace('『{}』'.format(l),'“{}”'.format(l))\n",
        "\n",
        "  result5 = pattern5.findall(line)  \n",
        "  for l in result5:\n",
        "    line = line.replace('「{}」'.format(l),'“{}”'.format(l))\n",
        "\n",
        "  # 将英文符号改中文\n",
        "  line = line.replace(',','，').replace('.','。').replace('!','！').replace('?','？').replace(':','：').replace('-','').replace(';','；').replace('*','').replace('#','')\n",
        "\n",
        "  # 其它处理\n",
        "  line = line.replace('，，+','，').replace(\"'\",\"’\")\n",
        "  line = re.sub(r'。。+','……',line)\n",
        "\n",
        "\n",
        "  return line.strip()"
      ],
      "metadata": {
        "id": "RqzfrWqb8jnv"
      },
      "execution_count": null,
      "outputs": []
    },
    {
      "cell_type": "code",
      "source": [
        "# 读取文本\n",
        "def readTxt(txtpath):\n",
        "  # e.g. txtpath=\"/content/drive/MyDrive/Colab/new-Transformer/dataG/originalG\"\n",
        "  txtfiles=os.listdir(txtpath)\n",
        "  txts=[]\n",
        "  senEnd=[ '”', '。', '？', '！', '…', '：', '—']\n",
        "  for file in txtfiles:\n",
        "    position = txtpath + '/' + file\n",
        "    with open(position,\"r\",encoding='UTF-8') as f:   # 打开文件\n",
        "      lines = f.readlines()\n",
        "      print(\"原总行数为：\",len(lines))\n",
        "      for line in lines:\n",
        "        if line!='\\n':\n",
        "          line=preprocess(line)    # 预处理文本\n",
        "          # line=line.replace('shinley','Shirley').replace('shirley','Shirley').replace('Shirlley','Shirley')  # 鬼吹灯文本语料处理\n",
        "          try:\n",
        "            if line[-1] in senEnd:\n",
        "              txts.append(line)  # 文本文件中每行为列表中一个元素\n",
        "            if line=='[CLS]':\n",
        "              txts.append(line)\n",
        "          except:\n",
        "            if line !='' and line !='\\n':\n",
        "              txts.append(line)\n",
        "            else:\n",
        "              pass\n",
        "  print(\"处理后总行数为：\",len(txts))\n",
        "  \n",
        "  return txts # 返回的文本字符串列表"
      ],
      "metadata": {
        "id": "V-_OAlKJ8oiN"
      },
      "execution_count": null,
      "outputs": []
    },
    {
      "cell_type": "code",
      "source": [
        "def save_processedTXT(txt_save_path,txts):\n",
        "  with open(txt_save_path,'w') as f:\n",
        "    f.writelines([line.strip()+'\\n' for line in txts])"
      ],
      "metadata": {
        "id": "2XqYWkc38qhN"
      },
      "execution_count": null,
      "outputs": []
    },
    {
      "cell_type": "markdown",
      "source": [
        "# 文本处理"
      ],
      "metadata": {
        "id": "W_n6q0IX8sOr"
      }
    },
    {
      "cell_type": "code",
      "source": [
        "raw_txt_path = '/content/drive/MyDrive/newTrain/data/raw/G'\n",
        "txt_save_path = '/content/drive/MyDrive/newTrain/data/processed/G/G_Processed.txt'\n",
        "txts = readTxt(raw_txt_path)"
      ],
      "metadata": {
        "colab": {
          "base_uri": "https://localhost:8080/"
        },
        "id": "WpaR-gz08rl6",
        "outputId": "91b3a0ff-ea44-40a2-a1e6-f3ee290d3ade"
      },
      "execution_count": null,
      "outputs": [
        {
          "output_type": "stream",
          "name": "stdout",
          "text": [
            "原总行数为： 17901\n",
            "处理后总行数为： 16368\n"
          ]
        }
      ]
    },
    {
      "cell_type": "code",
      "source": [
        "save_processedTXT(txt_save_path,txts)"
      ],
      "metadata": {
        "id": "sUOuCJBF8q8T"
      },
      "execution_count": null,
      "outputs": []
    }
  ]
}