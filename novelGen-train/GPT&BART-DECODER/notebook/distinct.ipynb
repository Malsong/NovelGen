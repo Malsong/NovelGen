{
  "nbformat": 4,
  "nbformat_minor": 0,
  "metadata": {
    "colab": {
      "name": "distinct.ipynb",
      "provenance": [],
      "collapsed_sections": []
    },
    "kernelspec": {
      "name": "python3",
      "display_name": "Python 3"
    },
    "language_info": {
      "name": "python"
    }
  },
  "cells": [
    {
      "cell_type": "code",
      "execution_count": null,
      "metadata": {
        "id": "usZY4rUvOm0s"
      },
      "outputs": [],
      "source": [
        "import jieba\n",
        "import os"
      ]
    },
    {
      "cell_type": "code",
      "source": [
        "def distinct(para):\n",
        "  para_cut = list(jieba.cut(para))\n",
        "  words_num = len(para_cut)\n",
        "  two_words = []\n",
        "  for i in range(words_num-1):\n",
        "    two_words.append(\"\".join(para_cut[i:i+2]))\n",
        "  unique_two_words_num = len(set(two_words))\n",
        "  return unique_two_words_num/words_num"
      ],
      "metadata": {
        "id": "EksHHXHQSh1m"
      },
      "execution_count": null,
      "outputs": []
    },
    {
      "cell_type": "code",
      "source": [
        "txtpath=\"/content/drive/MyDrive/newTrain/generations/F20\"\n",
        "txtfiles=os.listdir(txtpath)\n",
        "txts=[]\n",
        "i=0\n",
        "for file in txtfiles:\n",
        "  position = txtpath + '/' + file\n",
        "  i += 1 \n",
        "  txtone=[]\n",
        "  with open(position,\"r\",encoding='utf8') as f:   # 打开文件\n",
        "    lines = f.readlines()\n",
        "    for line in lines:\n",
        "      if line!='\\n':\n",
        "        txtone.append(line.strip())\n",
        "  text = \"\"\n",
        "  for line in txtone:\n",
        "    text += line\n",
        "  txts.append(text)"
      ],
      "metadata": {
        "id": "LmszNGaTSfjn"
      },
      "execution_count": null,
      "outputs": []
    },
    {
      "cell_type": "code",
      "source": [
        "distinct_list = []  \n",
        "for para in txts :\n",
        "  distinct_list.append(distinct(para))"
      ],
      "metadata": {
        "id": "-ZImGoYXTJbP"
      },
      "execution_count": null,
      "outputs": []
    },
    {
      "cell_type": "code",
      "source": [
        "print('distinct_list: ',distinct_list) # F10\n",
        "print('average: ',sum(distinct_list)/len(txts))"
      ],
      "metadata": {
        "colab": {
          "base_uri": "https://localhost:8080/"
        },
        "id": "b10uDvznXyb7",
        "outputId": "d80ccd39-2889-4c70-f535-3cb02910ccd1"
      },
      "execution_count": null,
      "outputs": [
        {
          "output_type": "stream",
          "name": "stdout",
          "text": [
            "distinct_list:  [0.8725490196078431, 0.7711538461538462, 0.7920604914933838, 0.7380952380952381, 0.7963302752293578, 0.792156862745098, 0.7934990439770554, 0.7625231910946196, 0.7830882352941176, 0.7764705882352941]\n",
            "average:  0.7877926791925854\n"
          ]
        }
      ]
    }
  ]
}